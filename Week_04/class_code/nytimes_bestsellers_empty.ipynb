{
 "cells": [
  {
   "cell_type": "markdown",
   "metadata": {},
   "source": [
    "## Live Code: Python Sets\n",
    "\n",
    "In this example we'll play around with call results from the [New York Times Books API](https://developer.nytimes.com/docs/books-product/1/overview) to demonstrate the use of __set operations__ (stay tuned for week 6, to learn more about APIs). \n",
    "\n",
    "With the Book API we can access data from the NY Times Bestseller List\n",
    "The Books API has service, that returns best sellers for a specified date and list-name.\n",
    "The request requires two parameters: {publishing date} and {list}\n",
    "\n",
    "We'll look at following categories: \n",
    "* Hardcover Fiction\n",
    "* Hardcover Nonfiction\n",
    "* Paperback Trade Fiction\n",
    "* Paperback Nonfiction\n",
    "\n",
    "These are updated weekly, we’ll look at lists of the current and previous week for comparison.\n",
    "\n",
    "In the first part of this code we'll create sets of titles for each category and week, in the second section we'll make use of set operations to get insights about the bestsellers. \n",
    "\n",
    "Things that we cand find out:\n",
    "- which books have stayed in the top 15 compared to the previous week? \n",
    "- which titles are newcomers?\n",
    "- ...\n",
    "\n",
    "### Generating Sets"
   ]
  },
  {
   "cell_type": "code",
   "execution_count": null,
   "metadata": {},
   "outputs": [],
   "source": [
    "# import requests and json libraries\n",
    "import requests\n",
    "import json\n",
    "\n",
    "# this function will make requests to the Books API\n",
    "# and generate sets of bestsellers for different lists\n",
    "# by passing 'date' as an argument, we can later call this function \n",
    "# several times for the lists of the current and the previous weeks\n",
    "def generateSets(date):\n",
    "    \n",
    "    # if you want to play around with the API, please make your own key at https://developer.nytimes.com/\n",
    "    authorized_key = \"QftZeSssSfBqTSFet3RBaTE9inc3iWAw\"\n",
    "    # create list of the categories we want to access:\n",
    "    # please refer to the 'class_code/nytimes_bestseller_find_lists.ipynb' notebook\n",
    "    # to understand how you can retrieve the encoded list names\n",
    "    categories = ['hardcover-fiction', 'hardcover-nonfiction', 'paperback-nonfiction', 'trade-fiction-paperback']\n",
    "    \n",
    "    \"\"\" This is an excerpt of the data structure the API will return:      \n",
    "{(...)\n",
    " (...)\n",
    " 'results': {(...)\n",
    "     (...)\n",
    "     'books': [{(...)\n",
    "         (...)\n",
    "         'title': 'LITTLE FIRES EVERYWHERE',\n",
    "         'contributor': 'by Celeste Ng',\n",
    "    \n",
    "    \"\"\"\n",
    "    \n",
    "    # our goal is to create a set for each of the above categories, \n",
    "    # containing the title of the top 15 books\n",
    "    \n",
    "    # step 1: \n",
    "    # declare a global variable, so we can access it later outside of the function\n",
    "    global bestseller_titles \n",
    "    # create an empty, nested list (one list for each category)\n",
    "    bestseller_titles = [[],[],[],[]] \n",
    "                \n",
    "    # step 2: \n",
    "    # populate those lists with the top-15 titles in the respective category\n",
    "\n",
    "    # create a variable to index the nested list\n",
    "    index = 0\n",
    "\n",
    "    for category in categories:\n",
    "        # call the API-url\n",
    "        # use string formatters to parse in the date, category, and the API-key\n",
    "        api_url = \"https://api.nytimes.com/svc/books/v3/lists/{}/{}.json?api-key={}\".format(date, category, authorized_key)\n",
    "\n",
    "        # call the API with requests\n",
    "        response = requests.get(api_url)\n",
    "        # create a variable called 'data' to hold the json formatted result\n",
    "        data = response.json()\n",
    "\n",
    "        # define the 'path' inside the json structure\n",
    "        books = data['results']['books']\n",
    "\n",
    "        for book in books:\n",
    "            # append the title to bestseller_titles at the current index\n",
    "            bestseller_titles[index].append(book['title'])\n",
    "        \n",
    "        # +1 to jump to the next nested list\n",
    "        index += 1\n",
    "\n",
    "    print(bestseller_titles)"
   ]
  },
  {
   "cell_type": "code",
   "execution_count": null,
   "metadata": {},
   "outputs": [],
   "source": [
    "# call the generateSets() function \n",
    "# with 'date' = 'current' to recieve this week's bestseller list\n",
    "generateSets('current')"
   ]
  },
  {
   "cell_type": "code",
   "execution_count": null,
   "metadata": {},
   "outputs": [],
   "source": [
    "# create a set from each nested list\n",
    "hc_fiction_jun21 = set(bestseller_titles[0]) \n",
    "hc_nonfiction_jun21 = set(bestseller_titles[1])\n",
    "pb_nonfiction_jun21 = set(bestseller_titles[2])\n",
    "pb_fiction_jun21 = set(bestseller_titles[3])\n",
    "\n",
    "print('Hardcover Fiction, June 21:\\n', hc_fiction_jun21)\n",
    "print('\\nHardcover Nonfiction, June 21:\\n', hc_nonfiction_jun21)\n",
    "print('\\nPaperback Nonfiction, June 21:\\n', pb_nonfiction_jun21)\n",
    "print('\\nPaperback Fiction, June 21:\\n', pb_fiction_jun21)"
   ]
  },
  {
   "cell_type": "code",
   "execution_count": null,
   "metadata": {},
   "outputs": [],
   "source": [
    "# call the generateSets() function again\n",
    "# with 'date' = '2020-06-14' to recieve last week's bestseller list\n",
    "generateSets('2020-06-14')"
   ]
  },
  {
   "cell_type": "code",
   "execution_count": null,
   "metadata": {},
   "outputs": [],
   "source": [
    "# create a set from each nested list\n",
    "hc_fiction_jun14 = set(bestseller_titles[0]) \n",
    "hc_nonfiction_jun14 = set(bestseller_titles[1]) \n",
    "pb_nonfiction_jun14 = set(bestseller_titles[2]) \n",
    "pb_fiction_jun14 = set(bestseller_titles[3]) \n",
    "\n",
    "print('Hardcover Fiction, June 14:\\n', hc_fiction_jun14)\n",
    "print('\\nHardcover Nonfiction, June 14:\\n', hc_nonfiction_jun14)\n",
    "print('\\nPaperback Nonfiction, June 14:\\n', pb_nonfiction_jun14)\n",
    "print('\\nPaperback Fiction, June 14:\\n', pb_fiction_jun14)"
   ]
  },
  {
   "cell_type": "markdown",
   "metadata": {},
   "source": [
    "## Set Operations\n",
    "\n",
    "Now that we have declared multiple sets of books, let's make use of set operations to get insights about the bestsellers."
   ]
  },
  {
   "cell_type": "code",
   "execution_count": null,
   "metadata": {},
   "outputs": [],
   "source": [
    "# create an intersection function"
   ]
  },
  {
   "cell_type": "code",
   "execution_count": null,
   "metadata": {},
   "outputs": [],
   "source": [
    "# create a difference function"
   ]
  },
  {
   "cell_type": "code",
   "execution_count": null,
   "metadata": {},
   "outputs": [],
   "source": [
    "# create a union function "
   ]
  },
  {
   "cell_type": "code",
   "execution_count": null,
   "metadata": {},
   "outputs": [],
   "source": [
    "# perform an operation on more than two sets"
   ]
  },
  {
   "cell_type": "code",
   "execution_count": null,
   "metadata": {},
   "outputs": [],
   "source": []
  }
 ],
 "metadata": {
  "kernelspec": {
   "display_name": "Python 3",
   "language": "python",
   "name": "python3"
  },
  "language_info": {
   "codemirror_mode": {
    "name": "ipython",
    "version": 3
   },
   "file_extension": ".py",
   "mimetype": "text/x-python",
   "name": "python",
   "nbconvert_exporter": "python",
   "pygments_lexer": "ipython3",
   "version": "3.7.4"
  }
 },
 "nbformat": 4,
 "nbformat_minor": 2
}
