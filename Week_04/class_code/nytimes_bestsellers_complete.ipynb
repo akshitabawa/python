{
 "cells": [
  {
   "cell_type": "markdown",
   "metadata": {},
   "source": [
    "## Live Code: Python Sets\n",
    "\n",
    "In this example we'll play around with call results from the [New York Times Books API](https://developer.nytimes.com/docs/books-product/1/overview) to demonstrate the use of __set operations__ (stay tuned for week 6, to learn more about APIs). \n",
    "\n",
    "With the Book API we can access data from the NY Times Bestseller List\n",
    "The Books API has service, that returns best sellers for a specified date and list-name.\n",
    "The request requires two parameters: {publishing date} and {list}\n",
    "\n",
    "We'll look at following categories: \n",
    "* Hardcover Fiction\n",
    "* Hardcover Nonfiction\n",
    "* Paperback Trade Fiction\n",
    "* Paperback Nonfiction\n",
    "\n",
    "These are updated weekly, we’ll look at lists of the current and previous week for comparison.\n",
    "\n",
    "In the first part of this code we'll create sets of titles for each category and week, in the second section we'll make use of set operations to get insights about the bestsellers. \n",
    "\n",
    "Things that we cand find out:\n",
    "- which books have stayed in the top 15 compared to the previous week? \n",
    "- which titles are newcomers?\n",
    "- ...\n",
    "\n",
    "### Generating Sets"
   ]
  },
  {
   "cell_type": "code",
   "execution_count": 23,
   "metadata": {},
   "outputs": [],
   "source": [
    "# import requests and json libraries\n",
    "import requests\n",
    "import json\n",
    "\n",
    "# this function will make requests to the Books API\n",
    "# and generate sets of bestsellers for different lists\n",
    "# by passing 'date' as an argument, we can later call this function \n",
    "# several times for the lists of the current and the previous weeks\n",
    "def generateSets(date):\n",
    "    \n",
    "    # if you want to play around with the API, please make your own key at https://developer.nytimes.com/\n",
    "    authorized_key = \"QftZeSssSfBqTSFet3RBaTE9inc3iWAw\"\n",
    "    # create list of the categories we want to access:\n",
    "    # please refer to the 'class_code/nytimes_bestseller_find_lists.ipynb' notebook\n",
    "    # to understand how you can retrieve the encoded list names\n",
    "    categories = ['hardcover-fiction', 'hardcover-nonfiction', 'paperback-nonfiction', 'trade-fiction-paperback']\n",
    "    \n",
    "    \"\"\" This is an excerpt of the data structure the API will return:      \n",
    "{(...)\n",
    " (...)\n",
    " 'results': {(...)\n",
    "     (...)\n",
    "     'books': [{(...)\n",
    "         (...)\n",
    "         'title': 'LITTLE FIRES EVERYWHERE',\n",
    "         'contributor': 'by Celeste Ng',\n",
    "    \n",
    "    \"\"\"\n",
    "    \n",
    "    # our goal is to create a set for each of the above categories, \n",
    "    # containing the title of the top 15 books\n",
    "    \n",
    "    # step 1: \n",
    "    # declare a global variable, so we can access it later outside of the function\n",
    "    global bestseller_titles \n",
    "    # create an empty, nested list (one list for each category)\n",
    "    bestseller_titles = [[],[],[],[]] \n",
    "                \n",
    "    # step 2: \n",
    "    # populate those lists with the top-15 titles in the respective category\n",
    "\n",
    "    # create a variable to index the nested list\n",
    "    index = 0\n",
    "\n",
    "    for category in categories:\n",
    "        # call the API-url\n",
    "        # use string formatters to parse in the date, category, and the API-key\n",
    "        api_url = \"https://api.nytimes.com/svc/books/v3/lists/{}/{}.json?api-key={}\".format(date, category, authorized_key)\n",
    "\n",
    "        # call the API with requests\n",
    "        response = requests.get(api_url)\n",
    "        # create a variable called 'data' to hold the json formatted result\n",
    "        data = response.json()\n",
    "\n",
    "        # define the 'path' inside the json structure\n",
    "        books = data['results']['books']\n",
    "\n",
    "        for book in books:\n",
    "            # append the title to bestseller_titles at the current index\n",
    "            bestseller_titles[index].append(book['title'])\n",
    "        \n",
    "        # +1 to jump to the next nested list\n",
    "        index += 1\n",
    "\n",
    "    print(bestseller_titles)"
   ]
  },
  {
   "cell_type": "code",
   "execution_count": 11,
   "metadata": {},
   "outputs": [
    {
     "name": "stdout",
     "output_type": "stream",
     "text": [
      "[['WHERE THE CRAWDADS SING', 'CAMINO WINDS', 'THE VANISHING HALF', 'THE SUMMER HOUSE', \"DADDY'S GIRLS\", 'FAIR WARNING', 'IF IT BLEEDS', 'TOM CLANCY: FIRING POINT', 'HIDEAWAY', 'THE GUEST LIST', 'WALK THE WIRE', 'BIG SUMMER', 'AMERICAN DIRT', 'THE LIES THAT BIND', 'THE DAUGHTERS OF ERIETOWN'], ['HOW TO BE AN ANTIRACIST', 'COUNTDOWN 1945', 'UNTAMED', 'BETWEEN THE WORLD AND ME', 'BECOMING', 'THE SPLENDID AND THE VILE', 'OUR TIME IS NOW', 'EDUCATED', 'UNITED STATES OF SOCIALISM', 'ME AND WHITE SUPREMACY', 'THE MAMBA MENTALITY', \"I'M STILL HERE\", 'THE DEFICIT MYTH', 'MY VANISHING COUNTRY', 'FORTITUDE'], ['SO YOU WANT TO TALK ABOUT RACE', 'WHITE FRAGILITY', 'STAMPED FROM THE BEGINNING', 'WHY ARE ALL THE BLACK KIDS SITTING TOGETHER IN THE CAFETERIA?', 'JUST MERCY', 'THE COLOR OF LAW', 'THE NEW JIM CROW', 'WHITE RAGE', 'BORN A CRIME', 'RAISING WHITE KIDS', 'THE BODY KEEPS THE SCORE', 'WAKING UP WHITE', 'THE COLOR OF COMPROMISE', \"WHY I'M NO LONGER TALKING TO WHITE PEOPLE ABOUT RACE\", 'THE GREAT INFLUENZA'], ['LITTLE FIRES EVERYWHERE', 'THEN SHE WAS GONE', 'NORMAL PEOPLE', 'CIRCE', 'A MINUTE TO MIDNIGHT', 'HUSH', 'THE WOMAN IN THE WINDOW', 'THE TATTOOIST OF AUSCHWITZ', 'BEFORE WE WERE YOURS', 'THE BLUEST EYE', 'THE FAMILY UPSTAIRS', 'A GENTLEMAN IN MOSCOW', \"THE HANDMAID'S TALE\", 'ELEANOR OLIPHANT IS COMPLETELY FINE', 'THE NIGHTINGALE']]\n",
      "4\n"
     ]
    }
   ],
   "source": [
    "# call the generatSets() function \n",
    "# with 'date' = 'current' to recieve this week's bestseller list\n",
    "generateSets('current')"
   ]
  },
  {
   "cell_type": "code",
   "execution_count": 3,
   "metadata": {},
   "outputs": [
    {
     "name": "stdout",
     "output_type": "stream",
     "text": [
      "Hardcover Fiction, June 21:\n",
      " {'WALK THE WIRE', 'CAMINO WINDS', 'IF IT BLEEDS', 'THE VANISHING HALF', 'THE DAUGHTERS OF ERIETOWN', 'FAIR WARNING', 'BIG SUMMER', 'TOM CLANCY: FIRING POINT', 'THE GUEST LIST', 'THE SUMMER HOUSE', 'HIDEAWAY', 'AMERICAN DIRT', 'WHERE THE CRAWDADS SING', 'THE LIES THAT BIND', \"DADDY'S GIRLS\"}\n",
      "\n",
      "Hardcover Nonfiction, June 21:\n",
      " {'BETWEEN THE WORLD AND ME', 'BECOMING', 'HOW TO BE AN ANTIRACIST', 'UNTAMED', 'ME AND WHITE SUPREMACY', 'UNITED STATES OF SOCIALISM', 'EDUCATED', 'THE MAMBA MENTALITY', 'FORTITUDE', 'OUR TIME IS NOW', 'COUNTDOWN 1945', 'THE DEFICIT MYTH', 'MY VANISHING COUNTRY', \"I'M STILL HERE\", 'THE SPLENDID AND THE VILE'}\n",
      "\n",
      "Paperback Nonfiction, June 21:\n",
      " {'THE COLOR OF LAW', 'JUST MERCY', 'THE NEW JIM CROW', 'THE COLOR OF COMPROMISE', 'BORN A CRIME', 'WHITE RAGE', 'STAMPED FROM THE BEGINNING', 'THE GREAT INFLUENZA', \"WHY I'M NO LONGER TALKING TO WHITE PEOPLE ABOUT RACE\", 'WAKING UP WHITE', 'WHY ARE ALL THE BLACK KIDS SITTING TOGETHER IN THE CAFETERIA?', 'SO YOU WANT TO TALK ABOUT RACE', 'RAISING WHITE KIDS', 'THE BODY KEEPS THE SCORE', 'WHITE FRAGILITY'}\n",
      "\n",
      "Paperback Fiction, June 21:\n",
      " {'THE NIGHTINGALE', 'HUSH', \"THE HANDMAID'S TALE\", 'NORMAL PEOPLE', 'THE TATTOOIST OF AUSCHWITZ', 'THE BLUEST EYE', 'A MINUTE TO MIDNIGHT', 'THEN SHE WAS GONE', 'THE FAMILY UPSTAIRS', 'ELEANOR OLIPHANT IS COMPLETELY FINE', 'LITTLE FIRES EVERYWHERE', 'BEFORE WE WERE YOURS', 'CIRCE', 'A GENTLEMAN IN MOSCOW', 'THE WOMAN IN THE WINDOW'}\n"
     ]
    }
   ],
   "source": [
    "# create a set from each nested list\n",
    "hc_fiction_jun21 = set(bestseller_titles[0]) \n",
    "hc_nonfiction_jun21 = set(bestseller_titles[1])\n",
    "pb_nonfiction_jun21 = set(bestseller_titles[2])\n",
    "pb_fiction_jun21 = set(bestseller_titles[3])\n",
    "\n",
    "print('Hardcover Fiction, June 21:\\n', hc_fiction_jun21)\n",
    "print('\\nHardcover Nonfiction, June 21:\\n', hc_nonfiction_jun21)\n",
    "print('\\nPaperback Nonfiction, June 21:\\n', pb_nonfiction_jun21)\n",
    "print('\\nPaperback Fiction, June 21:\\n', pb_fiction_jun21)"
   ]
  },
  {
   "cell_type": "code",
   "execution_count": 4,
   "metadata": {},
   "outputs": [
    {
     "name": "stdout",
     "output_type": "stream",
     "text": [
      "[['WHERE THE CRAWDADS SING', 'HIDEAWAY', 'FAIR WARNING', 'CAMINO WINDS', 'IF IT BLEEDS', 'BIG SUMMER', 'AMERICAN DIRT', 'WALK THE WIRE', 'ALL ADULTS HERE', 'THE 20TH VICTIM', 'THE SILENT PATIENT', 'THE GIVER OF STARS', 'THE BOOK OF LONGINGS', 'WRATH OF POSEIDON', 'THE LAST TRIAL'], ['UNTAMED', 'PLAGUE OF CORRUPTION', 'BECOMING', 'THE SPLENDID AND THE VILE', 'HOW TO BE AN ANTIRACIST', 'BREATH', 'EDUCATED', 'HOLLYWOOD PARK', 'AMERICAN CRUSADE', 'ME AND WHITE SUPREMACY', 'FORTITUDE', 'THE MAMBA MENTALITY', 'HIDDEN VALLEY ROAD', 'THE CHIFFON TRENCHES', 'MY VANISHING COUNTRY'], ['WHITE FRAGILITY', 'THE GREAT INFLUENZA', 'THE NEW JIM CROW', 'THE BODY KEEPS THE SCORE', 'SO YOU WANT TO TALK ABOUT RACE', 'JUST MERCY', 'A WOMAN OF NO IMPORTANCE', 'UNORTHODOX', 'BORN A CRIME', 'SAPIENS', 'BRAIDING SWEETGRASS', 'GRIT', 'OUTLIERS', 'THE COLOR OF LAW', 'THINKING, FAST AND SLOW'], ['LITTLE FIRES EVERYWHERE', 'NORMAL PEOPLE', 'THEN SHE WAS GONE', 'THE WOMAN IN THE WINDOW', 'THE TATTOOIST OF AUSCHWITZ', 'CIRCE', 'THIS TENDER LAND', 'BEFORE WE WERE YOURS', 'THE NIGHTINGALE', 'BEACH READ', 'CITY OF GIRLS', 'THE OVERSTORY', 'A GENTLEMAN IN MOSCOW', 'THE BOOK WOMAN OF TROUBLESOME CREEK', 'CALL ME BY YOUR NAME']]\n"
     ]
    }
   ],
   "source": [
    "# call the generatSets() function again\n",
    "# with 'date' = '2020-06-14' to recieve last week's bestseller list\n",
    "generateSets('2020-06-14')"
   ]
  },
  {
   "cell_type": "code",
   "execution_count": 5,
   "metadata": {},
   "outputs": [
    {
     "name": "stdout",
     "output_type": "stream",
     "text": [
      "Hardcover Fiction, June 14:\n",
      " {'CAMINO WINDS', 'IF IT BLEEDS', 'ALL ADULTS HERE', 'WRATH OF POSEIDON', 'THE SILENT PATIENT', 'FAIR WARNING', 'BIG SUMMER', 'THE GIVER OF STARS', 'HIDEAWAY', 'AMERICAN DIRT', 'THE BOOK OF LONGINGS', 'THE 20TH VICTIM', 'WHERE THE CRAWDADS SING', 'THE LAST TRIAL', 'WALK THE WIRE'}\n",
      "\n",
      "Hardcover Nonfiction, June 14:\n",
      " {'PLAGUE OF CORRUPTION', 'HOW TO BE AN ANTIRACIST', 'BECOMING', 'UNTAMED', 'ME AND WHITE SUPREMACY', 'EDUCATED', 'THE MAMBA MENTALITY', 'BREATH', 'FORTITUDE', 'THE CHIFFON TRENCHES', 'AMERICAN CRUSADE', 'MY VANISHING COUNTRY', 'HOLLYWOOD PARK', 'HIDDEN VALLEY ROAD', 'THE SPLENDID AND THE VILE'}\n",
      "\n",
      "Paperback Nonfiction, June 14:\n",
      " {'THE COLOR OF LAW', 'JUST MERCY', 'THE NEW JIM CROW', 'A WOMAN OF NO IMPORTANCE', 'OUTLIERS', 'THE GREAT INFLUENZA', 'BORN A CRIME', 'BRAIDING SWEETGRASS', 'UNORTHODOX', 'WHITE FRAGILITY', 'SAPIENS', 'SO YOU WANT TO TALK ABOUT RACE', 'THINKING, FAST AND SLOW', 'THE BODY KEEPS THE SCORE', 'GRIT'}\n",
      "\n",
      "Paperback Fiction, June 14:\n",
      " {'THE NIGHTINGALE', 'THE BOOK WOMAN OF TROUBLESOME CREEK', 'CITY OF GIRLS', 'NORMAL PEOPLE', 'THE TATTOOIST OF AUSCHWITZ', 'CALL ME BY YOUR NAME', 'THEN SHE WAS GONE', 'LITTLE FIRES EVERYWHERE', 'THIS TENDER LAND', 'CIRCE', 'BEFORE WE WERE YOURS', 'BEACH READ', 'A GENTLEMAN IN MOSCOW', 'THE WOMAN IN THE WINDOW', 'THE OVERSTORY'}\n"
     ]
    }
   ],
   "source": [
    "# create a set from each nested list\n",
    "hc_fiction_jun14 = set(bestseller_titles[0]) \n",
    "hc_nonfiction_jun14 = set(bestseller_titles[1]) \n",
    "pb_nonfiction_jun14 = set(bestseller_titles[2]) \n",
    "pb_fiction_jun14 = set(bestseller_titles[3]) \n",
    "\n",
    "print('Hardcover Fiction, June 14:\\n', hc_fiction_jun14)\n",
    "print('\\nHardcover Nonfiction, June 14:\\n', hc_nonfiction_jun14)\n",
    "print('\\nPaperback Nonfiction, June 14:\\n', pb_nonfiction_jun14)\n",
    "print('\\nPaperback Fiction, June 14:\\n', pb_fiction_jun14)"
   ]
  },
  {
   "cell_type": "markdown",
   "metadata": {},
   "source": [
    "## Set Operations\n",
    "\n",
    "Now that we have declared multiple sets of books, let's make use of set operations to get insights about the bestsellers."
   ]
  },
  {
   "cell_type": "code",
   "execution_count": 6,
   "metadata": {},
   "outputs": [
    {
     "name": "stdout",
     "output_type": "stream",
     "text": [
      "A & B\n",
      "Following books match your criteria:\n",
      "{'THE COLOR OF LAW', 'JUST MERCY', 'THE NEW JIM CROW', 'THE GREAT INFLUENZA', 'BORN A CRIME', 'SO YOU WANT TO TALK ABOUT RACE', 'THE BODY KEEPS THE SCORE', 'WHITE FRAGILITY'}\n",
      "\n"
     ]
    }
   ],
   "source": [
    "# create an intersection function to test if a books shows up in two categories\n",
    "def intersection(A , B): \n",
    "    inter = set(A) & set(B)\n",
    "    print('A & B\\nFollowing books match your criteria:\\n{}\\n'.format(inter))\n",
    "\n",
    "# call the function\n",
    "# show titles in paperback nonfiction, that were both on this and last week's bestseller list\n",
    "intersection(pb_nonfiction_jun21, pb_nonfiction_jun14)"
   ]
  },
  {
   "cell_type": "code",
   "execution_count": 7,
   "metadata": {},
   "outputs": [
    {
     "name": "stdout",
     "output_type": "stream",
     "text": [
      "A - B\n",
      "Following books match your criteria:\n",
      "{'THE COLOR OF COMPROMISE', 'WHITE RAGE', 'STAMPED FROM THE BEGINNING', \"WHY I'M NO LONGER TALKING TO WHITE PEOPLE ABOUT RACE\", 'WAKING UP WHITE', 'WHY ARE ALL THE BLACK KIDS SITTING TOGETHER IN THE CAFETERIA?', 'RAISING WHITE KIDS'}\n",
      "\n"
     ]
    }
   ],
   "source": [
    "# create a difference function\n",
    "def difference(A , B): \n",
    "    diff = set(A) - set(B)\n",
    "    print('A - B\\nFollowing books match your criteria:\\n{}\\n'.format(diff))\n",
    "\n",
    "# call the function\n",
    "# show this week's newcomers in the paperback nonfiction category\n",
    "difference(pb_nonfiction_jun21, pb_nonfiction_jun14)"
   ]
  },
  {
   "cell_type": "code",
   "execution_count": 8,
   "metadata": {},
   "outputs": [
    {
     "name": "stdout",
     "output_type": "stream",
     "text": [
      "A | B\n",
      "Following books match your criteria:\n",
      "{'THE NEW JIM CROW', 'BORN A CRIME', 'STAMPED FROM THE BEGINNING', 'BRAIDING SWEETGRASS', \"WHY I'M NO LONGER TALKING TO WHITE PEOPLE ABOUT RACE\", 'WAKING UP WHITE', 'WHY ARE ALL THE BLACK KIDS SITTING TOGETHER IN THE CAFETERIA?', 'SO YOU WANT TO TALK ABOUT RACE', 'RAISING WHITE KIDS', 'THE BODY KEEPS THE SCORE', 'WHITE FRAGILITY', 'GRIT', 'THE COLOR OF LAW', 'JUST MERCY', 'A WOMAN OF NO IMPORTANCE', 'OUTLIERS', 'THE COLOR OF COMPROMISE', 'THE GREAT INFLUENZA', 'WHITE RAGE', 'UNORTHODOX', 'SAPIENS', 'THINKING, FAST AND SLOW'}\n",
      "\n"
     ]
    }
   ],
   "source": [
    "# create a union function to show two categories combined\n",
    "def union(A , B): \n",
    "    union = set(A) | set(B)\n",
    "    print('A | B\\nFollowing books match your criteria:\\n{}\\n'.format(union))\n",
    "\n",
    "# call the function\n",
    "# show paperback nonfiction titles of this and last week combined\n",
    "union(pb_nonfiction_jun21, pb_nonfiction_jun14)"
   ]
  },
  {
   "cell_type": "code",
   "execution_count": 9,
   "metadata": {},
   "outputs": [
    {
     "name": "stdout",
     "output_type": "stream",
     "text": [
      "{'THE NEW JIM CROW', 'HOW TO BE AN ANTIRACIST', 'BORN A CRIME', 'BRAIDING SWEETGRASS', 'MY VANISHING COUNTRY', 'COUNTDOWN 1945', 'AMERICAN CRUSADE', 'HOLLYWOOD PARK', 'RAISING WHITE KIDS', 'THE SPLENDID AND THE VILE', 'THE BODY KEEPS THE SCORE', 'THE COLOR OF LAW', 'A WOMAN OF NO IMPORTANCE', 'ME AND WHITE SUPREMACY', 'THE CHIFFON TRENCHES', 'HIDDEN VALLEY ROAD', 'THINKING, FAST AND SLOW', 'BECOMING', 'UNITED STATES OF SOCIALISM', 'STAMPED FROM THE BEGINNING', 'EDUCATED', 'FORTITUDE', \"WHY I'M NO LONGER TALKING TO WHITE PEOPLE ABOUT RACE\", 'WAKING UP WHITE', 'WHY ARE ALL THE BLACK KIDS SITTING TOGETHER IN THE CAFETERIA?', 'SO YOU WANT TO TALK ABOUT RACE', 'THE DEFICIT MYTH', 'WHITE FRAGILITY', 'GRIT', 'JUST MERCY', 'PLAGUE OF CORRUPTION', 'OUTLIERS', 'BETWEEN THE WORLD AND ME', 'UNTAMED', 'THE COLOR OF COMPROMISE', 'THE GREAT INFLUENZA', 'WHITE RAGE', 'THE MAMBA MENTALITY', 'BREATH', 'UNORTHODOX', 'OUR TIME IS NOW', 'SAPIENS', \"I'M STILL HERE\"}\n"
     ]
    }
   ],
   "source": [
    "# Show ALL nonfiction bestsellers, current and last week combined\n",
    "all_nonfiction = pb_nonfiction_jun21 | pb_nonfiction_jun14 | hc_nonfiction_jun21 | hc_nonfiction_jun14\n",
    "print(all_nonfiction)"
   ]
  },
  {
   "cell_type": "code",
   "execution_count": null,
   "metadata": {},
   "outputs": [],
   "source": []
  }
 ],
 "metadata": {
  "kernelspec": {
   "display_name": "Python 3",
   "language": "python",
   "name": "python3"
  },
  "language_info": {
   "codemirror_mode": {
    "name": "ipython",
    "version": 3
   },
   "file_extension": ".py",
   "mimetype": "text/x-python",
   "name": "python",
   "nbconvert_exporter": "python",
   "pygments_lexer": "ipython3",
   "version": "3.7.4"
  }
 },
 "nbformat": 4,
 "nbformat_minor": 2
}
