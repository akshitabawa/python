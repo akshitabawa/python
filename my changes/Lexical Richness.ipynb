{
 "cells": [
  {
   "cell_type": "code",
   "execution_count": 1,
   "metadata": {},
   "outputs": [
    {
     "name": "stdout",
     "output_type": "stream",
     "text": [
      "\n",
      "Oliver Twist; or, the Parish Boy's Progress is Charles Dickens's second novel, and was published as a serial from 1837 to 1839 and released as a three-volume book in 1838, before the serialization ended.[1] The story centres on orphan Oliver Twist, born in a workhouse and sold into apprenticeship with an undertaker. After escaping, Oliver travels to London, where he meets the \"Artful Dodger\", a member of a gang of juvenile pickpockets led by the elderly criminal Fagin.\n",
      "\n"
     ]
    }
   ],
   "source": [
    "text = \"\"\"\n",
    "Oliver Twist; or, the Parish Boy's Progress is Charles Dickens's second novel, and was published as a serial from 1837 to 1839 and released as a three-volume book in 1838, before the serialization ended.[1] The story centres on orphan Oliver Twist, born in a workhouse and sold into apprenticeship with an undertaker. After escaping, Oliver travels to London, where he meets the \"Artful Dodger\", a member of a gang of juvenile pickpockets led by the elderly criminal Fagin.\n",
    "\"\"\"\n",
    "print (text)"
   ]
  },
  {
   "cell_type": "code",
   "execution_count": 2,
   "metadata": {},
   "outputs": [
    {
     "name": "stdout",
     "output_type": "stream",
     "text": [
      "\n",
      "oliver twist; or, the parish boy's progress is charles dickens's second novel, and was published as a serial from 1837 to 1839 and released as a three-volume book in 1838, before the serialization ended.[1] the story centres on orphan oliver twist, born in a workhouse and sold into apprenticeship with an undertaker. after escaping, oliver travels to london, where he meets the \"artful dodger\", a member of a gang of juvenile pickpockets led by the elderly criminal fagin.\n",
      "\n"
     ]
    }
   ],
   "source": [
    "text_lower = text.lower()\n",
    "print(text_lower)"
   ]
  },
  {
   "cell_type": "code",
   "execution_count": 3,
   "metadata": {},
   "outputs": [
    {
     "name": "stdout",
     "output_type": "stream",
     "text": [
      "\n",
      "OLIVER TWIST; OR, THE PARISH BOY'S PROGRESS IS CHARLES DICKENS'S SECOND NOVEL, AND WAS PUBLISHED AS A SERIAL FROM 1837 TO 1839 AND RELEASED AS A THREE-VOLUME BOOK IN 1838, BEFORE THE SERIALIZATION ENDED.[1] THE STORY CENTRES ON ORPHAN OLIVER TWIST, BORN IN A WORKHOUSE AND SOLD INTO APPRENTICESHIP WITH AN UNDERTAKER. AFTER ESCAPING, OLIVER TRAVELS TO LONDON, WHERE HE MEETS THE \"ARTFUL DODGER\", A MEMBER OF A GANG OF JUVENILE PICKPOCKETS LED BY THE ELDERLY CRIMINAL FAGIN.\n",
      "\n"
     ]
    }
   ],
   "source": [
    "text_upper = text.upper()\n",
    "print(text_upper)"
   ]
  },
  {
   "cell_type": "code",
   "execution_count": 11,
   "metadata": {},
   "outputs": [
    {
     "name": "stdout",
     "output_type": "stream",
     "text": [
      "\n",
      "oliver twist or the parish boys progress is charles dickenss second novel and was published as a serial from  to  and released as a three volume book in  before the serialization ended the story centres on orphan oliver twist born in a workhouse and sold into apprenticeship with an undertaker after escaping oliver travels to london where he meets the artful dodger a member of a gang of juvenile pickpockets led by the elderly criminal fagin\n",
      "\n"
     ]
    }
   ],
   "source": [
    "text_nopunc = text_lower.replace('.','').replace(',','').replace(';','').replace('[','').replace(']','').replace('-',' ').replace(\"'\",\"\").replace('\"','').replace('1','').replace('8','').replace('3','').replace('9','').replace('7','')\n",
    "print(text_nopunc)"
   ]
  },
  {
   "cell_type": "code",
   "execution_count": null,
   "metadata": {},
   "outputs": [],
   "source": [
    "# # Python program to Remove all  \n",
    "# # digits from a list of string \n",
    "# import re \n",
    "  \n",
    "# def remove(list): \n",
    "#     pattern = '[0-9]'\n",
    "#     list = [re.sub(pattern, '', i) for i in list] \n",
    "#     return list\n",
    "  \n",
    "# # Driver code  \n",
    "  \n",
    "# list = ['4geeks', '3for', '4geeks'] \n",
    "# print(remove(list))"
   ]
  },
  {
   "cell_type": "code",
   "execution_count": 13,
   "metadata": {},
   "outputs": [
    {
     "name": "stdout",
     "output_type": "stream",
     "text": [
      "['oliver', 'twist', 'or', 'the', 'parish', 'boys', 'progress', 'is', 'charles', 'dickenss', 'second', 'novel', 'and', 'was', 'published', 'as', 'a', 'serial', 'from', 'to', 'and', 'released', 'as', 'a', 'three', 'volume', 'book', 'in', 'before', 'the', 'serialization', 'ended', 'the', 'story', 'centres', 'on', 'orphan', 'oliver', 'twist', 'born', 'in', 'a', 'workhouse', 'and', 'sold', 'into', 'apprenticeship', 'with', 'an', 'undertaker', 'after', 'escaping', 'oliver', 'travels', 'to', 'london', 'where', 'he', 'meets', 'the', 'artful', 'dodger', 'a', 'member', 'of', 'a', 'gang', 'of', 'juvenile', 'pickpockets', 'led', 'by', 'the', 'elderly', 'criminal', 'fagin']\n"
     ]
    }
   ],
   "source": [
    "text_data = text_nopunc.split()\n",
    "print (text_data)"
   ]
  },
  {
   "cell_type": "code",
   "execution_count": 14,
   "metadata": {},
   "outputs": [
    {
     "name": "stdout",
     "output_type": "stream",
     "text": [
      "76\n"
     ]
    }
   ],
   "source": [
    "num_word = len(text_data)\n",
    "print (num_word)"
   ]
  },
  {
   "cell_type": "code",
   "execution_count": 19,
   "metadata": {},
   "outputs": [
    {
     "name": "stdout",
     "output_type": "stream",
     "text": [
      "['a', 'a', 'a', 'a', 'a', 'after', 'an', 'and', 'and', 'and', 'apprenticeship', 'artful', 'as', 'as', 'before', 'book', 'born', 'boys', 'by', 'centres', 'charles', 'criminal', 'dickenss', 'dodger', 'elderly', 'ended', 'escaping', 'fagin', 'from', 'gang', 'he', 'in', 'in', 'into', 'is', 'juvenile', 'led', 'london', 'meets', 'member', 'novel', 'of', 'of', 'oliver', 'oliver', 'oliver', 'on', 'or', 'orphan', 'parish', 'pickpockets', 'progress', 'published', 'released', 'second', 'serial', 'serialization', 'sold', 'story', 'the', 'the', 'the', 'the', 'the', 'three', 'to', 'to', 'travels', 'twist', 'twist', 'undertaker', 'volume', 'was', 'where', 'with', 'workhouse']\n"
     ]
    }
   ],
   "source": [
    "text_data.sort()\n",
    "print(text_data)"
   ]
  },
  {
   "cell_type": "code",
   "execution_count": 20,
   "metadata": {},
   "outputs": [
    {
     "name": "stdout",
     "output_type": "stream",
     "text": [
      "['a', 'after', 'an', 'and', 'apprenticeship', 'artful', 'as', 'before', 'book', 'born', 'boys', 'by', 'centres', 'charles', 'criminal', 'dickenss', 'dodger', 'elderly', 'ended', 'escaping', 'fagin', 'from', 'gang', 'he', 'in', 'into', 'is', 'juvenile', 'led', 'london', 'meets', 'member', 'novel', 'of', 'oliver', 'on', 'or', 'orphan', 'parish', 'pickpockets', 'progress', 'published', 'released', 'second', 'serial', 'serialization', 'sold', 'story', 'the', 'three', 'to', 'travels', 'twist', 'undertaker', 'volume', 'was', 'where', 'with', 'workhouse']\n"
     ]
    }
   ],
   "source": [
    "unique_word = []\n",
    "for word in text_data:\n",
    "    if word not in unique_word:\n",
    "        unique_word.append(word)\n",
    "print(unique_word)"
   ]
  },
  {
   "cell_type": "code",
   "execution_count": 21,
   "metadata": {},
   "outputs": [
    {
     "name": "stdout",
     "output_type": "stream",
     "text": [
      "59\n"
     ]
    }
   ],
   "source": [
    "num_unique_word = len(unique_word)\n",
    "print(num_unique_word)"
   ]
  },
  {
   "cell_type": "code",
   "execution_count": 22,
   "metadata": {},
   "outputs": [
    {
     "data": {
      "text/plain": [
       "0.7763157894736842"
      ]
     },
     "execution_count": 22,
     "metadata": {},
     "output_type": "execute_result"
    }
   ],
   "source": [
    "num_unique_word / num_word"
   ]
  },
  {
   "cell_type": "code",
   "execution_count": 40,
   "metadata": {},
   "outputs": [],
   "source": [
    "def printLexicalRichness(text):\n",
    "    text_lower = text.lower()\n",
    "    text_nopunc = text_lower.replace('.','').replace(',','').replace(';','').replace('[','').replace(']','').replace('-',' ').replace(\"'\",\"\").replace('\"','').replace(':','')\n",
    "    text_data = text_nopunc.split()\n",
    "    num_word = len(text_data)\n",
    "    unique_word = []\n",
    "    for word in text_data:\n",
    "        if word not in unique_word:\n",
    "            unique_word.append(word)\n",
    "    num_unique_word = len(unique_word)\n",
    "    print(num_unique_word / num_word)"
   ]
  },
  {
   "cell_type": "code",
   "execution_count": 41,
   "metadata": {},
   "outputs": [
    {
     "name": "stdout",
     "output_type": "stream",
     "text": [
      "0.6730769230769231\n"
     ]
    }
   ],
   "source": [
    "text2 = '''\n",
    "A paragraph is a series of related sentences developing a central idea, called the topic. Try to think about paragraphs in terms of thematic unity: a paragraph is a sentence or a group of sentences that supports one central, unified idea. Paragraphs add one idea at a time to your broader argument.\n",
    "'''\n",
    "printLexicalRichness(text2)"
   ]
  },
  {
   "cell_type": "code",
   "execution_count": 43,
   "metadata": {},
   "outputs": [
    {
     "name": "stdout",
     "output_type": "stream",
     "text": [
      "0.528169014084507\n"
     ]
    }
   ],
   "source": [
    "text3 = '''\n",
    "Sunday is my favorite day of the week. I like it because on Sunday, I watch football. On other days, I also get to watch football but not all day. There are other sports on other days to watch on TV. Sunday lunch is a favorite of mine because I eat with my father in front of the TV. All the other days, I have to eat at the table which is less fun. Some days my dad doesn’t make it home from work until after I’m in bed. Some weeks my dad travels, and I don’t see him for several days. The highlight of the day is when we watch the Dolphins play. Dad and I get so excited, we yell and cheer together. The thing that I like to do best in the world is watch TV with my dad.\n",
    "'''\n",
    "printLexicalRichness(text3)"
   ]
  },
  {
   "cell_type": "code",
   "execution_count": 44,
   "metadata": {},
   "outputs": [
    {
     "name": "stdout",
     "output_type": "stream",
     "text": [
      "0.7272727272727273\n"
     ]
    }
   ],
   "source": [
    "text4 = '''\n",
    "Paragraphs are comprised of sentences, but not random sentences. A paragraph is a group of sentences organized around a central topic. In fact, the cardinal rule of paragraph writing is to focus on one idea. A solidly written paragraph takes its readers on a clear path, without detours. Master the paragraph, and you’ll be on your way to writing “gold-star” essays, term papers, and stories.\n",
    "'''\n",
    "printLexicalRichness(text4)"
   ]
  },
  {
   "cell_type": "code",
   "execution_count": null,
   "metadata": {},
   "outputs": [],
   "source": []
  }
 ],
 "metadata": {
  "kernelspec": {
   "display_name": "Python 3",
   "language": "python",
   "name": "python3"
  },
  "language_info": {
   "codemirror_mode": {
    "name": "ipython",
    "version": 3
   },
   "file_extension": ".py",
   "mimetype": "text/x-python",
   "name": "python",
   "nbconvert_exporter": "python",
   "pygments_lexer": "ipython3",
   "version": "3.7.6"
  }
 },
 "nbformat": 4,
 "nbformat_minor": 4
}
