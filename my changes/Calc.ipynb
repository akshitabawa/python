{
 "cells": [
  {
   "cell_type": "code",
   "execution_count": null,
   "metadata": {},
   "outputs": [],
   "source": [
    "def calculation():\n",
    "    operation = input ('''\n",
    "    Please enter the operation you want to do :\n",
    "    + for addition\n",
    "    - for subtraction\n",
    "    * for multiplication\n",
    "    / for division \n",
    "    ''')\n",
    "    \n",
    "    number_1 = int(input (\"please enter first number: \"))\n",
    "    number_2 = int(input (\"please enter second number: \"))\n",
    "\n",
    "    if operation == '+':\n",
    "        print (number_1,'+', number_2, '=')\n",
    "        print (number_1 + number_2)\n",
    "\n",
    "    elif operation == '-':\n",
    "        print (number_1,'-', number_2, '=')\n",
    "        print (number_1 - number_2)\n",
    "\n",
    "    elif operation == '*':\n",
    "        print (number_1,'*', number_2, '=')\n",
    "        print (number_1 * number_2)\n",
    "\n",
    "    elif operation == '/':\n",
    "        print (number_1,'/', number_2, '=')\n",
    "        print (number_1 / number_2)\n",
    "\n",
    "    else:\n",
    "        print (\"You have not entered a valid operation\")\n",
    "        \n",
    "calculation()"
   ]
  },
  {
   "cell_type": "code",
   "execution_count": null,
   "metadata": {},
   "outputs": [],
   "source": [
    "number_1 = int(input (\"please enter first number: \"))\n",
    "number_2 = int(input (\"please enter second number: \"))"
   ]
  },
  {
   "cell_type": "code",
   "execution_count": null,
   "metadata": {},
   "outputs": [],
   "source": []
  },
  {
   "cell_type": "code",
   "execution_count": null,
   "metadata": {},
   "outputs": [],
   "source": []
  }
 ],
 "metadata": {
  "kernelspec": {
   "display_name": "Python 3",
   "language": "python",
   "name": "python3"
  },
  "language_info": {
   "codemirror_mode": {
    "name": "ipython",
    "version": 3
   },
   "file_extension": ".py",
   "mimetype": "text/x-python",
   "name": "python",
   "nbconvert_exporter": "python",
   "pygments_lexer": "ipython3",
   "version": "3.7.6"
  }
 },
 "nbformat": 4,
 "nbformat_minor": 4
}
