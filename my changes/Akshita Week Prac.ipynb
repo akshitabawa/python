{
 "cells": [
  {
   "cell_type": "code",
   "execution_count": 6,
   "metadata": {},
   "outputs": [
    {
     "name": "stdout",
     "output_type": "stream",
     "text": [
      "Hello\n",
      "Attribute Value\n"
     ]
    }
   ],
   "source": [
    "class ClassName:\n",
    "    def __init__(self,attribute):\n",
    "        self.attribute = attribute\n",
    "        \n",
    "    def sayHello(self):\n",
    "        return 'Hello'\n",
    "    \n",
    "instance = ClassName('Attribute Value')\n",
    "\n",
    "print (instance.sayHello())\n",
    "print(instance.attribute)"
   ]
  },
  {
   "cell_type": "code",
   "execution_count": 14,
   "metadata": {},
   "outputs": [
    {
     "name": "stdout",
     "output_type": "stream",
     "text": [
      "They are not the same\n"
     ]
    }
   ],
   "source": [
    "class ClassName:\n",
    "    def __init__(self,attribute):\n",
    "        self.attribute = attribute\n",
    "\n",
    "instanceOne = ClassName('10')\n",
    "instanceTwo = ClassName('105')\n",
    "\n",
    "if (instanceOne.attribute == instanceTwo.attribute):\n",
    "    print(\"They are the same\")\n",
    "else:\n",
    "    print(\"They are not the same\")\n"
   ]
  },
  {
   "cell_type": "code",
   "execution_count": null,
   "metadata": {},
   "outputs": [],
   "source": [
    "class Numbers:\n",
    "    def __init__(self,*arguments):\n",
    "        self.numbers = []\n",
    "        if (not arguments):\n",
    "            return\n",
    "        for argument in arguments:\n",
    "            self.addNumbers(argument)\n",
    "            \n",
    "    def addNumbers(self,*arguments):\n",
    "        if (not arguments):\n",
    "            return\n",
    "        for argument in arguments:\n",
    "            self.numbers.append(number)\n",
    "        return self\n",
    "    \n",
    "    def total(self):\n",
    "        return sum(self.numbers)\n",
    "    \n",
    "    def mean(self):\n",
    "        if not len(self.numbers):\n",
    "            raise\n",
    "        return self.total()/len(self.numbers)\n",
    "    \n",
    "    def empty(self):\n",
    "        self.numbers = []\n",
    "        return self.numbers\n",
    "    \n",
    "    def combine(self, *otherNumbers):\n",
    "        for otherNumber in otherNumbers:\n",
    "            self.numbers = self.numbers + otherNumber.numbers\n",
    "        return self.numbers"
   ]
  }
 ],
 "metadata": {
  "kernelspec": {
   "display_name": "Python 3",
   "language": "python",
   "name": "python3"
  },
  "language_info": {
   "codemirror_mode": {
    "name": "ipython",
    "version": 3
   },
   "file_extension": ".py",
   "mimetype": "text/x-python",
   "name": "python",
   "nbconvert_exporter": "python",
   "pygments_lexer": "ipython3",
   "version": "3.7.6"
  }
 },
 "nbformat": 4,
 "nbformat_minor": 4
}
