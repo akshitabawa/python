{
 "cells": [
  {
   "cell_type": "code",
   "execution_count": null,
   "metadata": {},
   "outputs": [],
   "source": [
    "def calculation():\n",
    "    operation = input ('''\n",
    "    Please enter the operation you want to do :\n",
    "    + for addition\n",
    "    - for subtraction\n",
    "    * for multiplication\n",
    "    / for division \n",
    "    ''')\n",
    "    \n",
    "    number_1 = int(input (\"please enter first number: \"))\n",
    "    number_2 = int(input (\"please enter second number: \"))\n",
    "\n",
    "    if operation == '+':\n",
    "        print (number_1,'+', number_2, '=')\n",
    "        print (number_1 + number_2)\n",
    "\n",
    "    elif operation == '-':\n",
    "        print (number_1,'-', number_2, '=')\n",
    "        print (number_1 - number_2)\n",
    "\n",
    "    elif operation == '*':\n",
    "        print (number_1,'*', number_2, '=')\n",
    "        print (number_1 * number_2)\n",
    "\n",
    "    elif operation == '/':\n",
    "        print (number_1,'/', number_2, '=')\n",
    "        print (number_1 / number_2)\n",
    "\n",
    "    else:\n",
    "        print (\"You have not entered a valid operation\")\n",
    "\n",
    "    again ()\n",
    "\n",
    "def again():\n",
    "    \n",
    "    calc_again = input (\"\"\"\n",
    "    Do you want to calculate again?\n",
    "    Press y for Yes and n for No\n",
    "    \"\"\")\n",
    "    \n",
    "    if calc_again == 'y':\n",
    "        calculation()\n",
    "        \n",
    "    elif calc_again == 'n':\n",
    "        print ('See You Later!')\n",
    "        \n",
    "    else:\n",
    "        again ()\n",
    "        \n",
    "calculation()\n",
    "    "
   ]
  },
  {
   "cell_type": "code",
   "execution_count": null,
   "metadata": {},
   "outputs": [],
   "source": []
  },
  {
   "cell_type": "code",
   "execution_count": null,
   "metadata": {},
   "outputs": [],
   "source": []
  }
 ],
 "metadata": {
  "kernelspec": {
   "display_name": "Python 3",
   "language": "python",
   "name": "python3"
  }
 },
 "nbformat": 4,
 "nbformat_minor": 4
}
