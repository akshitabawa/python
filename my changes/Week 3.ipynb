{
 "cells": [
  {
   "cell_type": "markdown",
   "metadata": {},
   "source": []
  },
  {
   "cell_type": "code",
   "execution_count": 1,
   "metadata": {},
   "outputs": [
    {
     "data": {
      "text/plain": [
       "0"
      ]
     },
     "execution_count": 1,
     "metadata": {},
     "output_type": "execute_result"
    }
   ],
   "source": [
    "10%2"
   ]
  },
  {
   "cell_type": "code",
   "execution_count": 2,
   "metadata": {},
   "outputs": [
    {
     "data": {
      "text/plain": [
       "0"
      ]
     },
     "execution_count": 2,
     "metadata": {},
     "output_type": "execute_result"
    }
   ],
   "source": [
    "10%1\n"
   ]
  },
  {
   "cell_type": "code",
   "execution_count": 4,
   "metadata": {},
   "outputs": [
    {
     "name": "stdout",
     "output_type": "stream",
     "text": [
      "Hello World! 3 3000 Lan\n"
     ]
    }
   ],
   "source": [
    "name = \"Lan\"\n",
    "print (\"Hello World!\" + ' ' + str(3) + ' ' + str(3000) + ' ' + name)"
   ]
  },
  {
   "cell_type": "code",
   "execution_count": 6,
   "metadata": {},
   "outputs": [
    {
     "name": "stdout",
     "output_type": "stream",
     "text": [
      "Hello World to Akshita\n"
     ]
    }
   ],
   "source": [
    "print ('Hello World to %s' % (\"Akshita\"))"
   ]
  },
  {
   "cell_type": "code",
   "execution_count": 7,
   "metadata": {},
   "outputs": [
    {
     "name": "stdout",
     "output_type": "stream",
     "text": [
      "Let's play games on Thursday\n"
     ]
    }
   ],
   "source": [
    "starter = \"Let's play games on Thursday\"\n",
    "print(starter)"
   ]
  },
  {
   "cell_type": "code",
   "execution_count": 10,
   "metadata": {},
   "outputs": [
    {
     "data": {
      "text/plain": [
       "['grape', 'orange', 'apple']"
      ]
     },
     "execution_count": 10,
     "metadata": {},
     "output_type": "execute_result"
    }
   ],
   "source": [
    "list = [\"apple\", \"orange\", \"grape\"]\n",
    "#list[start:end:step]\n",
    "list [::-1]"
   ]
  },
  {
   "cell_type": "code",
   "execution_count": 11,
   "metadata": {},
   "outputs": [
    {
     "name": "stdout",
     "output_type": "stream",
     "text": [
      "yadsruhT no semag yalp s'teL\n"
     ]
    }
   ],
   "source": [
    "print(starter[::-1])"
   ]
  },
  {
   "cell_type": "code",
   "execution_count": 12,
   "metadata": {},
   "outputs": [
    {
     "data": {
      "text/plain": [
       "\"L-e-t-'-s- -p-l-a-y- -g-a-m-e-s- -o-n- -T-h-u-r-s-d-a-y\""
      ]
     },
     "execution_count": 12,
     "metadata": {},
     "output_type": "execute_result"
    }
   ],
   "source": [
    "dashed_message = starter.replace('', '-')\n",
    "dashed_message [1:-1:]"
   ]
  },
  {
   "cell_type": "code",
   "execution_count": 13,
   "metadata": {},
   "outputs": [
    {
     "data": {
      "text/plain": [
       "\"L-e-t-'-s- -p-l-a-y- -g-a-m-e-s- -o-n- -T-h-u-r-s-d-a-y\""
      ]
     },
     "execution_count": 13,
     "metadata": {},
     "output_type": "execute_result"
    }
   ],
   "source": [
    "#string.join(list)\n",
    "'-'.join(starter)"
   ]
  },
  {
   "cell_type": "code",
   "execution_count": 15,
   "metadata": {},
   "outputs": [
    {
     "name": "stdout",
     "output_type": "stream",
     "text": [
      "0\n"
     ]
    }
   ],
   "source": [
    "days = ['Monday', 'Tuesday', 'Wednesday', 'Thursday', 'Friday','Saturday', 'Sunday']\n",
    "print(days.index('Monday'))"
   ]
  },
  {
   "cell_type": "code",
   "execution_count": 16,
   "metadata": {},
   "outputs": [],
   "source": [
    "def showday(sen):\n",
    "    \"\"\"\n",
    "    Let's play game on thursday\n",
    "    Let's play games on day 4 of the week\n",
    "    I want to see you on day 3 of the week\n",
    "    \"\"\"\n",
    "    \n",
    "    newsen = ''\n",
    "    days = ['Monday', 'Tuesday', 'Wednesday']"
   ]
  },
  {
   "cell_type": "code",
   "execution_count": 17,
   "metadata": {},
   "outputs": [
    {
     "name": "stdout",
     "output_type": "stream",
     "text": [
      "\n",
      "The current physical distancing between people across the globe and strife within our society has made our work at ITP bringing people together through new media more relevant than ever. We need to find a way to continue our research, invention and play in the field of interactive telecommunications. We are excited to have you join the important work we are doing at ITP.\n",
      "\n",
      "But to paraphrase the words of the preflight airline safety video, “in the unlikely event of loss of cabin pressure, secure your mask before helping others.” In this short survey we are asking about your plans to help us plan for the Fall. To help you make your plans we will describe our approach within these uncharted times. Please fill out the survey by Monday, June 8th.\n",
      "\n",
      "\n"
     ]
    }
   ],
   "source": [
    "text = \"\"\"\n",
    "The current physical distancing between people across the globe and strife within our society has made our work at ITP bringing people together through new media more relevant than ever. We need to find a way to continue our research, invention and play in the field of interactive telecommunications. We are excited to have you join the important work we are doing at ITP.\n",
    "\n",
    "But to paraphrase the words of the preflight airline safety video, “in the unlikely event of loss of cabin pressure, secure your mask before helping others.” In this short survey we are asking about your plans to help us plan for the Fall. To help you make your plans we will describe our approach within these uncharted times. Please fill out the survey by Monday, June 8th.\n",
    "\n",
    "\"\"\"\n",
    "\n",
    "print (text)"
   ]
  },
  {
   "cell_type": "code",
   "execution_count": 18,
   "metadata": {},
   "outputs": [
    {
     "name": "stdout",
     "output_type": "stream",
     "text": [
      "\n",
      "the current physical distancing between people across the globe and strife within our society has made our work at itp bringing people together through new media more relevant than ever. we need to find a way to continue our research, invention and play in the field of interactive telecommunications. we are excited to have you join the important work we are doing at itp.\n",
      "\n",
      "but to paraphrase the words of the preflight airline safety video, “in the unlikely event of loss of cabin pressure, secure your mask before helping others.” in this short survey we are asking about your plans to help us plan for the fall. to help you make your plans we will describe our approach within these uncharted times. please fill out the survey by monday, june 8th.\n",
      "\n",
      "\n"
     ]
    }
   ],
   "source": [
    "text_lower = text.lower()\n",
    "print(text_lower)"
   ]
  },
  {
   "cell_type": "code",
   "execution_count": null,
   "metadata": {},
   "outputs": [],
   "source": [
    "#clean all punctuation "
   ]
  },
  {
   "cell_type": "code",
   "execution_count": 28,
   "metadata": {},
   "outputs": [
    {
     "name": "stdout",
     "output_type": "stream",
     "text": [
      "\n",
      "the current physical distancing between people across the globe and strife within our society has made our work at itp bringing people together through new media more relevant than ever we need to find a way to continue our research invention and play in the field of interactive telecommunications we are excited to have you join the important work we are doing at itp\n",
      "\n",
      "but to paraphrase the words of the preflight airline safety video in the unlikely event of loss of cabin pressure secure your mask before helping others in this short survey we are asking about your plans to help us plan for the fall to help you make your plans we will describe our approach within these uncharted times please fill out the survey by monday june 8th\n",
      "\n",
      "\n"
     ]
    }
   ],
   "source": [
    "text_clean = text_lower.replace('”','').replace('.', '').replace(',', '').replace('“', '')\n",
    "print (text_clean)"
   ]
  },
  {
   "cell_type": "code",
   "execution_count": null,
   "metadata": {},
   "outputs": [],
   "source": []
  },
  {
   "cell_type": "code",
   "execution_count": null,
   "metadata": {},
   "outputs": [],
   "source": []
  }
 ],
 "metadata": {
  "kernelspec": {
   "display_name": "Python 3",
   "language": "python",
   "name": "python3"
  },
  "language_info": {
   "codemirror_mode": {
    "name": "ipython",
    "version": 3
   },
   "file_extension": ".py",
   "mimetype": "text/x-python",
   "name": "python",
   "nbconvert_exporter": "python",
   "pygments_lexer": "ipython3",
   "version": "3.7.6"
  }
 },
 "nbformat": 4,
 "nbformat_minor": 4
}
