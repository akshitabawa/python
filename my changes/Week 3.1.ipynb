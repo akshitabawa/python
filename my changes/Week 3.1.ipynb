{
 "cells": [
  {
   "cell_type": "code",
   "execution_count": 3,
   "metadata": {},
   "outputs": [
    {
     "name": "stdout",
     "output_type": "stream",
     "text": [
      "<class 'tuple'>\n",
      "(1, 3, 4, 6)\n"
     ]
    }
   ],
   "source": [
    "t1 = 1,3,4,6\n",
    "t2 = (1,3,4,6)\n",
    "\n",
    "print(type(t1))\n",
    "print (t2)"
   ]
  },
  {
   "cell_type": "code",
   "execution_count": 2,
   "metadata": {},
   "outputs": [
    {
     "name": "stdout",
     "output_type": "stream",
     "text": [
      "()\n"
     ]
    }
   ],
   "source": [
    "my_tuple = ()\n",
    "print (my_tuple)"
   ]
  },
  {
   "cell_type": "code",
   "execution_count": 6,
   "metadata": {},
   "outputs": [
    {
     "name": "stdout",
     "output_type": "stream",
     "text": [
      "<class 'str'>\n",
      "hello\n"
     ]
    }
   ],
   "source": [
    "tuple_ = \"hello\"\n",
    "print(type(tuple_))\n",
    "print (tuple_)"
   ]
  },
  {
   "cell_type": "code",
   "execution_count": 36,
   "metadata": {},
   "outputs": [
    {
     "name": "stdout",
     "output_type": "stream",
     "text": [
      "[2, 3, 4]\n"
     ]
    }
   ],
   "source": [
    "li = [1,2,3,4]\n",
    "print (li[-3:])"
   ]
  },
  {
   "cell_type": "code",
   "execution_count": 34,
   "metadata": {},
   "outputs": [
    {
     "name": "stdout",
     "output_type": "stream",
     "text": [
      "Design\n"
     ]
    }
   ],
   "source": [
    "li = [\"Parson\", \"Design\", \"and\", \"Technology\"]\n",
    "print(li[1])"
   ]
  },
  {
   "cell_type": "code",
   "execution_count": null,
   "metadata": {},
   "outputs": [],
   "source": [
    "# [x:y:z] x is start no : y is last no : z is the no of steps "
   ]
  },
  {
   "cell_type": "code",
   "execution_count": 64,
   "metadata": {},
   "outputs": [],
   "source": [
    "def isPalindrome(txt):\n",
    "    \n",
    "    txt = txt.lower()\n",
    "    \n",
    "    txt = txt.replace(' ' , '')\n",
    "    \n",
    "    txt = txt.replace('?' , '')\n",
    "    \n",
    "    forwards = txt\n",
    "    print ('Forwards: ' + forwards)\n",
    "    \n",
    "    backwards = txt[::-1]\n",
    "    print('Backwards: ' + backwards)\n",
    "    \n",
    "    if forwards == backwards:\n",
    "        print (\"It\\'s a palindrome! True\")\n",
    "    else:\n",
    "        print('It\\'s NOT a palindrome, False!')\n",
    "    print ('---')\n",
    "    "
   ]
  },
  {
   "cell_type": "code",
   "execution_count": 65,
   "metadata": {},
   "outputs": [
    {
     "name": "stdout",
     "output_type": "stream",
     "text": [
      "--- all of these should be true ---\n",
      "Forwards: wow\n",
      "Backwards: wow\n",
      "It's a palindrome! True\n",
      "---\n",
      "Forwards: 12a3a21\n",
      "Backwards: 12a3a21\n",
      "It's a palindrome! True\n",
      "---\n",
      "Forwards: anna\n",
      "Backwards: anna\n",
      "It's a palindrome! True\n",
      "---\n",
      "Forwards: racecar\n",
      "Backwards: racecar\n",
      "It's a palindrome! True\n",
      "---\n",
      "Forwards: wasitacatisaw\n",
      "Backwards: wasitacatisaw\n",
      "It's a palindrome! True\n",
      "---\n",
      "\n",
      "--- all of these should be false ---\n",
      "Forwards: wowza\n",
      "Backwards: azwow\n",
      "It's NOT a palindrome, False!\n",
      "---\n",
      "Forwards: 123a21\n",
      "Backwards: 12a321\n",
      "It's NOT a palindrome, False!\n",
      "---\n",
      "Forwards: <3mom<3\n",
      "Backwards: 3<mom3<\n",
      "It's NOT a palindrome, False!\n",
      "---\n"
     ]
    }
   ],
   "source": [
    "print('--- all of these should be true ---')\n",
    "isPalindrome('wow')\n",
    "isPalindrome('12a3a21')\n",
    "isPalindrome('Anna') \n",
    "isPalindrome('race car')\n",
    "isPalindrome('Was it a cat I saw?')\n",
    "\n",
    "print('\\n--- all of these should be false ---')\n",
    "isPalindrome('wowza')\n",
    "isPalindrome('123a21')\n",
    "isPalindrome('<3 mom <3')"
   ]
  },
  {
   "cell_type": "code",
   "execution_count": null,
   "metadata": {},
   "outputs": [],
   "source": [
    "import random\n",
    "def event(namelist, event_type, date, loc, items):\n",
    "    def getRand(list):\n",
    "        return random.choice(list)\n",
    "    def getAll(li):\n",
    "        return "
   ]
  },
  {
   "cell_type": "code",
   "execution_count": null,
   "metadata": {},
   "outputs": [],
   "source": []
  }
 ],
 "metadata": {
  "kernelspec": {
   "display_name": "Python 3",
   "language": "python",
   "name": "python3"
  },
  "language_info": {
   "codemirror_mode": {
    "name": "ipython",
    "version": 3
   },
   "file_extension": ".py",
   "mimetype": "text/x-python",
   "name": "python",
   "nbconvert_exporter": "python",
   "pygments_lexer": "ipython3",
   "version": "3.7.6"
  }
 },
 "nbformat": 4,
 "nbformat_minor": 4
}
