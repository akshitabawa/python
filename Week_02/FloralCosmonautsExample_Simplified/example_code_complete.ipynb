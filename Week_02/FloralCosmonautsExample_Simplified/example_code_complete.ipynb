{
 "cells": [
  {
   "cell_type": "markdown",
   "metadata": {},
   "source": [
    "# Example code\n",
    "\n",
    "## Conditionally respond to input data\n",
    "\n",
    "1. Store example input data in a variable\n",
    "1. Extract the flight status from the example data\n",
    "1. Conditionally respond to the flight status\n",
    "\n",
    "## Example input data\n",
    "```txt\n",
    "C,146.60,139621.516000,143254.078000,3114.280000,4.152000,27.391000\n",
    "D,173.40,222255.422000,225888.016000,2795.878000,-3.377000,25.589000\n",
    "E,191.90,268644.281000,272276.812000,2218.704000,-8.981000,25.241000\n",
    "F,216.90,314337.125000,317969.719000,1437.477000,-14.557000,25.395000\n",
    "```"
   ]
  },
  {
   "cell_type": "code",
   "execution_count": 102,
   "metadata": {},
   "outputs": [
    {
     "name": "stdout",
     "output_type": "stream",
     "text": [
      "D,173.40,222255.422000,225888.016000,2795.878000,-3.377000,25.589000\n"
     ]
    }
   ],
   "source": [
    "# Example input data received from New Shepard spacecraft.\n",
    "input_data = 'D,173.40,222255.422000,225888.016000,2795.878000,-3.377000,25.589000'\n",
    "\n",
    "print(input_data)"
   ]
  },
  {
   "cell_type": "code",
   "execution_count": 103,
   "metadata": {},
   "outputs": [
    {
     "name": "stdout",
     "output_type": "stream",
     "text": [
      "['D', '173.40', '222255.422000', '225888.016000', '2795.878000', '-3.377000', '25.589000']\n"
     ]
    }
   ],
   "source": [
    "# Reformat the data so that we can access just the element\n",
    "# that we want.\n",
    "input_data = input_data.split(',')\n",
    "\n",
    "print(input_data)"
   ]
  },
  {
   "cell_type": "code",
   "execution_count": 104,
   "metadata": {},
   "outputs": [
    {
     "name": "stdout",
     "output_type": "stream",
     "text": [
      "D\n"
     ]
    }
   ],
   "source": [
    "# Extract the first element of the data.\n",
    "# Store it in a variable called 'space_event'.\n",
    "flight_event = input_data[0]\n",
    "\n",
    "print(flight_event)"
   ]
  },
  {
   "cell_type": "code",
   "execution_count": 105,
   "metadata": {},
   "outputs": [
    {
     "name": "stdout",
     "output_type": "stream",
     "text": [
      "CAMERA ON!\n"
     ]
    }
   ],
   "source": [
    "# Based on the particular event, do different things.\n",
    "if flight_event == 'D':\n",
    "    print('CAMERA ON!')\n",
    "\n",
    "if flight_event == 'E':\n",
    "    print('LIGHTS ON!')\n",
    "\n",
    "if flight_event == 'F':\n",
    "    print('START EXPERIMENT!')"
   ]
  },
  {
   "cell_type": "code",
   "execution_count": null,
   "metadata": {},
   "outputs": [],
   "source": []
  }
 ],
 "metadata": {
  "kernelspec": {
   "display_name": "Python 3",
   "language": "python",
   "name": "python3"
  },
  "language_info": {
   "codemirror_mode": {
    "name": "ipython",
    "version": 3
   },
   "file_extension": ".py",
   "mimetype": "text/x-python",
   "name": "python",
   "nbconvert_exporter": "python",
   "pygments_lexer": "ipython3",
   "version": "3.7.6"
  }
 },
 "nbformat": 4,
 "nbformat_minor": 2
}
