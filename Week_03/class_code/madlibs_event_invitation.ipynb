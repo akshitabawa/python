{
 "cells": [
  {
   "cell_type": "markdown",
   "metadata": {},
   "source": [
    "# A Mad-Lib style generator\n",
    "\n",
    "Mad Libs is a phrasal template word game where one player prompts others for a list of words to <b>substitute</b> for blanks in a story.\n",
    "\n",
    "We are going to create an event invitation template that would allow us to automate copies of invitations"
   ]
  },
  {
   "cell_type": "code",
   "execution_count": 1,
   "metadata": {},
   "outputs": [],
   "source": [
    "import random\n",
    "def event(namelist, event_type, date, loc, items):\n",
    "    # outputs a random item from the list\n",
    "    def getRand(list):\n",
    "        return random.choice(list)\n",
    "    \n",
    "    # formats all outputs form a list as 'a, b, and c'\n",
    "    def getAll(li):\n",
    "        return ', '.join(li[:-1]) + \", and %s\" %(li[-1])\n",
    "    \n",
    "    # format guestnames\n",
    "    def formatnames(namelist):\n",
    "        guest_list = []\n",
    "        for name in namelist:\n",
    "            if len(name) == 1:\n",
    "                guest_list.append(name[0])\n",
    "            elif len(name) == 2:\n",
    "                guest_list.append(' and '.join(name))\n",
    "            else:\n",
    "                guest_list.append(getAll(name))\n",
    "        return guest_list\n",
    "    \n",
    "    # variables needed:\n",
    "    guestlist = formatnames(namelist)\n",
    "    type_of_event = event_type\n",
    "    date = date[::-1]\n",
    "    location = loc[::-1] # a simple reversed encrption\n",
    "    items = items\n",
    "    invite_template = '''\n",
    "            Hey %s:\n",
    "            You are invited to a %s! Join us on %s at %s!\n",
    "            Bring %s.\n",
    "\n",
    "            Best,\n",
    "            Party bear\n",
    "\n",
    "            ---\n",
    "        ''' \n",
    "    \n",
    "    for guests in guestlist:\n",
    "        print(invite_template % (guests,\n",
    "                                 type_of_event,\n",
    "                                 date,\n",
    "                                 location,\n",
    "                                 getAll(items)# try getRand()\n",
    "                                ))"
   ]
  },
  {
   "cell_type": "code",
   "execution_count": 2,
   "metadata": {},
   "outputs": [
    {
     "name": "stdout",
     "output_type": "stream",
     "text": [
      "\n",
      "            Hey Bob:\n",
      "            You are invited to a gathering! Join us on dn2 yluJ at erauqS noinU!\n",
      "            Bring beverages, games, signs, masks, and facecovers.\n",
      "\n",
      "            Best,\n",
      "            Party bear\n",
      "\n",
      "            ---\n",
      "        \n",
      "\n",
      "            Hey Mary and guest:\n",
      "            You are invited to a gathering! Join us on dn2 yluJ at erauqS noinU!\n",
      "            Bring beverages, games, signs, masks, and facecovers.\n",
      "\n",
      "            Best,\n",
      "            Party bear\n",
      "\n",
      "            ---\n",
      "        \n",
      "\n",
      "            Hey Lan, Anna, Jason, and Sven:\n",
      "            You are invited to a gathering! Join us on dn2 yluJ at erauqS noinU!\n",
      "            Bring beverages, games, signs, masks, and facecovers.\n",
      "\n",
      "            Best,\n",
      "            Party bear\n",
      "\n",
      "            ---\n",
      "        \n",
      "\n",
      "            Hey Friends and Family:\n",
      "            You are invited to a gathering! Join us on dn2 yluJ at erauqS noinU!\n",
      "            Bring beverages, games, signs, masks, and facecovers.\n",
      "\n",
      "            Best,\n",
      "            Party bear\n",
      "\n",
      "            ---\n",
      "        \n"
     ]
    }
   ],
   "source": [
    "guests = ((\"Bob\",),(\"Mary\",\"guest\"),(\"Lan\",\"Anna\",\"Jason\",\"Sven\"),('Friends','Family'));\n",
    "items = ['beverages','games','signs',\"masks\",\"facecovers\"]\n",
    "\n",
    "# call the generator function to populate invitations:\n",
    "event(guests, \"gathering\", \"July 2nd\", \"Union Square\", items)"
   ]
  },
  {
   "cell_type": "code",
   "execution_count": null,
   "metadata": {},
   "outputs": [],
   "source": []
  }
 ],
 "metadata": {
  "kernelspec": {
   "display_name": "Python 3",
   "language": "python",
   "name": "python3"
  },
  "language_info": {
   "codemirror_mode": {
    "name": "ipython",
    "version": 3
   },
   "file_extension": ".py",
   "mimetype": "text/x-python",
   "name": "python",
   "nbconvert_exporter": "python",
   "pygments_lexer": "ipython3",
   "version": "3.7.4"
  }
 },
 "nbformat": 4,
 "nbformat_minor": 2
}
